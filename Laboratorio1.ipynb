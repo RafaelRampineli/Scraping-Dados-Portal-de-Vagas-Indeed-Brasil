{
 "cells": [
  {
   "cell_type": "markdown",
   "metadata": {},
   "source": [
    "<strong><b><font size=\"5\">Web Scraping e Análise de Dados</font></b></strong>"
   ]
  },
  {
   "cell_type": "markdown",
   "metadata": {},
   "source": [
    "<strong><b><font size=\"5\">Laborátorio 1</font></b></strong>\n",
    "\n",
    "<strong><b><font size=\"4\">Scraping, Processamento de Linguagem Natural e Análise de Dados em Portais de Vagas no Brasil</font></b></strong>"
   ]
  },
  {
   "cell_type": "markdown",
   "metadata": {},
   "source": [
    "Neste Laboratório iremos conectar em um dos maiores portais de vagas do Brasil, o Indeed, fazer web scraping de dados sobre as vagas em Data Science e então analisar os dados, extraindo insights e aplicando Processamento de Linguagem Natural. O exemplo pode ser facilmente aplicado a outros portais, com os devidos ajustes.\n",
    "\n",
    "Usaremos o Chromedriver para o processo de extração. Acesse o endereço abaixo, faça o download do arquivo de acordo com seu sistema operacional, descompacte o zip e coloque o arquivo na mesma pasta onde está este Jupyter Notebook.\n",
    "\n",
    "https://sites.google.com/a/chromium.org/chromedriver/home"
   ]
  },
  {
   "cell_type": "markdown",
   "metadata": {},
   "source": [
    "## Carregando os Pacotes Usados Neste Jupyter Notebook"
   ]
  },
  {
   "cell_type": "code",
   "execution_count": 1,
   "metadata": {},
   "outputs": [
    {
     "name": "stdout",
     "output_type": "stream",
     "text": [
      "Versão Python: 3.7.3\n"
     ]
    }
   ],
   "source": [
    "# Versão da Linguagem Python\n",
    "from platform import python_version\n",
    "print('Versão Python:', python_version())"
   ]
  },
  {
   "cell_type": "code",
   "execution_count": null,
   "metadata": {},
   "outputs": [],
   "source": [
    "# Para atualizar um pacote, execute o comando abaixo no terminal ou prompt de comando:\n",
    "# pip install -U nome_pacote\n",
    "\n",
    "# Para instalar a versão exata de um pacote, execute o comando abaixo no terminal ou prompt de comando:\n",
    "# pip install nome_pacote==versão_desejada\n",
    "\n",
    "# Depois de instalar ou atualizar o pacote, reinicie o jupyter notebook, se necessário."
   ]
  },
  {
   "cell_type": "code",
   "execution_count": null,
   "metadata": {},
   "outputs": [],
   "source": [
    "# Instala o pacote watermark. \n",
    "# Esse pacote é usado para gravar as versões de outros pacotes usados neste jupyter notebook.\n",
    "!pip install -q -U watermark"
   ]
  },
  {
   "cell_type": "code",
   "execution_count": null,
   "metadata": {},
   "outputs": [],
   "source": [
    "# Precisaremos do selenium\n",
    "# Pacote utilizado para automatizar a interação do navegador web a partir do python.\n",
    "!pip install -q selenium"
   ]
  },
  {
   "cell_type": "code",
   "execution_count": 2,
   "metadata": {},
   "outputs": [],
   "source": [
    "# Imports\n",
    "import bs4\n",
    "import selenium\n",
    "import numpy as np\n",
    "import pandas as pd\n",
    "import matplotlib\n",
    "import matplotlib.pyplot as plt\n",
    "from selenium import webdriver\n",
    "from bs4 import BeautifulSoup\n",
    "from collections import Counter\n",
    "%matplotlib inline"
   ]
  },
  {
   "cell_type": "code",
   "execution_count": 3,
   "metadata": {},
   "outputs": [],
   "source": [
    "# Utilizaremos o NLTK para realizar o Processamento de Linguagem Natural\n",
    "import nltk"
   ]
  },
  {
   "cell_type": "code",
   "execution_count": 3,
   "metadata": {},
   "outputs": [
    {
     "name": "stdout",
     "output_type": "stream",
     "text": [
      "showing info https://raw.githubusercontent.com/nltk/nltk_data/gh-pages/index.xml\n"
     ]
    },
    {
     "data": {
      "text/plain": [
       "True"
      ]
     },
     "execution_count": 3,
     "metadata": {},
     "output_type": "execute_result"
    }
   ],
   "source": [
    "# Somente Execute essa célula caso não tenha feito o download dos arquivos nltk.\n",
    "# Temos que fazer o download do dicionário e demais pacotes do NLTK\n",
    "# Vai abrir outra janela do navegador solicitando a seleção dos itens para download. \n",
    "# Selecione todos os itens com o mouse e então clique em Download. Feche a janela quando terminar.\n",
    "nltk.download()"
   ]
  },
  {
   "cell_type": "code",
   "execution_count": 4,
   "metadata": {},
   "outputs": [],
   "source": [
    "# Tokenização é o processo de quebrar uma sentença em palavras, palavras em letras e etc...\n",
    "# Essa tarefa faz parte do processamento de linguagem natural. \n",
    "# Vamos importar a função word_tokenize.\n",
    "from nltk import word_tokenize"
   ]
  },
  {
   "cell_type": "code",
   "execution_count": 5,
   "metadata": {},
   "outputs": [],
   "source": [
    "# As stopwords são palavras comuns, como artigos, advérbios ou conjunções.\n",
    "# As stopwords devem ser removidas no processamento de linguagem natural.\n",
    "# Vamos importar a função stopwords.\n",
    "from nltk.corpus import stopwords"
   ]
  },
  {
   "cell_type": "code",
   "execution_count": 6,
   "metadata": {},
   "outputs": [
    {
     "name": "stdout",
     "output_type": "stream",
     "text": [
      "selenium.webdriver 3.14.1\n",
      "bs4                4.7.1\n",
      "matplotlib         3.2.1\n",
      "numpy              1.18.4\n",
      "pandas             1.0.4\n",
      "selenium           3.141.0\n",
      "nltk               3.4\n",
      "\n"
     ]
    }
   ],
   "source": [
    "# Versões dos pacotes usados neste jupyter notebook\n",
    "%reload_ext watermark\n",
    "%watermark --iversions"
   ]
  },
  {
   "cell_type": "markdown",
   "metadata": {},
   "source": [
    "## Web Scraping"
   ]
  },
  {
   "cell_type": "code",
   "execution_count": 7,
   "metadata": {},
   "outputs": [],
   "source": [
    "# Cria o driver de conexão. Será aberta outra janela do navegador. Não feche-a e mantenha aberta durante a extração.\n",
    "# No lugar do Chrome pode-se usar FireFox ou outro navegador.\n",
    "driver = webdriver.Chrome(\"./chromedriver\")"
   ]
  },
  {
   "cell_type": "code",
   "execution_count": 61,
   "metadata": {},
   "outputs": [],
   "source": [
    "# Cria o dataframe para receber os dados\n",
    "dados = pd.DataFrame(columns = [\"Titulo\", \"Localidade\", \"Empresa\", \"Salario\", \"Tipo_Pesquisa\", \"Desc\", \"Sumario\"])"
   ]
  },
  {
   "cell_type": "markdown",
   "metadata": {},
   "source": [
    "A url abaixo foi gerada da seguinte forma:\n",
    "    \n",
    "- 1- Acesso ao site https://www.indeed.com.br\n",
    "\n",
    "- 2- Seleção dos filtros de pesquisa de vagas com o termo \"Data Science\" e localidade \"Brasil\"\n",
    "\n",
    "- 3- Copiado a url na barra de endereço do navegador.\n",
    "\n",
    "Você pode executar o mesmo procedimento e customizar sua busca, alterando localidade ou o tipo de vaga por exemplo. Copie a url e coloque na célula abaixo. Então execute o Jupyter Notebook novamente.\n",
    "\n",
    "###### Evite executar a célula abaixo muitas vezes seguidas ou seu acesso pode ser bloqueado pelo site."
   ]
  },
  {
   "cell_type": "code",
   "execution_count": 9,
   "metadata": {},
   "outputs": [],
   "source": [
    "# Abre a conexão com o site e faz a pesquisa\n",
    "driver.get(\"https://www.indeed.com.br/jobs?q=data+science&l=brasil\")\n",
    "# Apenas 15 segundos de espera na coleta para não carregar muitos dados para otimizar o tempo.\n",
    "driver.implicitly_wait(15)"
   ]
  },
  {
   "cell_type": "markdown",
   "metadata": {},
   "source": [
    "O resultado da execução acima, será carregado dentro da pagina web que foi aberta quando iniciamos o webdrive.chrome"
   ]
  },
  {
   "cell_type": "code",
   "execution_count": 10,
   "metadata": {},
   "outputs": [],
   "source": [
    "# Aplica a busca no site através da class==Result\n",
    "resultado = driver.find_elements_by_class_name(\"result\")"
   ]
  },
  {
   "cell_type": "code",
   "execution_count": 11,
   "metadata": {},
   "outputs": [
    {
     "data": {
      "text/plain": [
       "list"
      ]
     },
     "execution_count": 11,
     "metadata": {},
     "output_type": "execute_result"
    }
   ],
   "source": [
    "# Tipo do objeto\n",
    "type(resultado)"
   ]
  },
  {
   "cell_type": "code",
   "execution_count": 48,
   "metadata": {},
   "outputs": [
    {
     "data": {
      "text/plain": [
       "[<selenium.webdriver.remote.webelement.WebElement (session=\"6c97dcd708555356cc47fbcdc6cb3c89\", element=\"9efac590-c727-4f5a-b36e-17fcda74d20b\")>,\n",
       " <selenium.webdriver.remote.webelement.WebElement (session=\"6c97dcd708555356cc47fbcdc6cb3c89\", element=\"d67745e8-c369-4606-a37f-b2b5c981e3f0\")>,\n",
       " <selenium.webdriver.remote.webelement.WebElement (session=\"6c97dcd708555356cc47fbcdc6cb3c89\", element=\"e92334bb-89c5-4450-8a88-676f1af040eb\")>,\n",
       " <selenium.webdriver.remote.webelement.WebElement (session=\"6c97dcd708555356cc47fbcdc6cb3c89\", element=\"e68adf0e-215c-4735-a482-e261d486c9ab\")>,\n",
       " <selenium.webdriver.remote.webelement.WebElement (session=\"6c97dcd708555356cc47fbcdc6cb3c89\", element=\"2ffbf644-8128-46b6-a4d2-368a176c5432\")>,\n",
       " <selenium.webdriver.remote.webelement.WebElement (session=\"6c97dcd708555356cc47fbcdc6cb3c89\", element=\"592a41fc-341a-4444-b6bd-61bfd520e8af\")>,\n",
       " <selenium.webdriver.remote.webelement.WebElement (session=\"6c97dcd708555356cc47fbcdc6cb3c89\", element=\"c1b62cbf-ebff-41f8-901d-12d7b4fa5de5\")>,\n",
       " <selenium.webdriver.remote.webelement.WebElement (session=\"6c97dcd708555356cc47fbcdc6cb3c89\", element=\"741cf74a-5a8b-4546-8f12-242fd040439f\")>,\n",
       " <selenium.webdriver.remote.webelement.WebElement (session=\"6c97dcd708555356cc47fbcdc6cb3c89\", element=\"0f57057d-fccf-4398-9b5a-cf06d10b0473\")>,\n",
       " <selenium.webdriver.remote.webelement.WebElement (session=\"6c97dcd708555356cc47fbcdc6cb3c89\", element=\"68016f24-adbc-49d0-ac5d-b0c2863f3aff\")>,\n",
       " <selenium.webdriver.remote.webelement.WebElement (session=\"6c97dcd708555356cc47fbcdc6cb3c89\", element=\"cb1ad027-d629-41a6-9349-d21a859357ed\")>,\n",
       " <selenium.webdriver.remote.webelement.WebElement (session=\"6c97dcd708555356cc47fbcdc6cb3c89\", element=\"b93b6436-e203-43d4-be17-f6e0a0b18459\")>,\n",
       " <selenium.webdriver.remote.webelement.WebElement (session=\"6c97dcd708555356cc47fbcdc6cb3c89\", element=\"74e257b6-c7a2-402c-9848-b9c103236e63\")>,\n",
       " <selenium.webdriver.remote.webelement.WebElement (session=\"6c97dcd708555356cc47fbcdc6cb3c89\", element=\"e118de3a-591f-4e0f-9f4b-0561b67e3aef\")>,\n",
       " <selenium.webdriver.remote.webelement.WebElement (session=\"6c97dcd708555356cc47fbcdc6cb3c89\", element=\"d6bcbb41-0919-427f-a4ad-843b86d71b3d\")>]"
      ]
     },
     "execution_count": 48,
     "metadata": {},
     "output_type": "execute_result"
    }
   ],
   "source": [
    "resultado"
   ]
  },
  {
   "cell_type": "markdown",
   "metadata": {},
   "source": [
    "### ATENÇÃO: TODA A MÁGICA DO WEB SCRAPING OCORRE NESSE TRECHO DE CÓDIGO.\n",
    "#### Fique Ligado!\n",
    "\n",
    "###### O padrão abaixo implementado se deve a estrutura que o site está montado. Outros sites podem possuir diferentes estruturas.\n",
    "\n",
    "###### O Código abaixo leva um tempinho para ser executado."
   ]
  },
  {
   "cell_type": "code",
   "execution_count": 62,
   "metadata": {},
   "outputs": [],
   "source": [
    "# Loop pelos resultados obtidos do scraping e aplicando a extração dos dados nas tags HTML que desejamos.\n",
    "for vaga in resultado:\n",
    "    \n",
    "    # Coletando o elemento HTML interno\n",
    "    result_html = vaga.get_attribute('innerHTML')\n",
    "    \n",
    "    # Aplicando o parser do código HTML\n",
    "    soup = BeautifulSoup(result_html, 'html.parser')\n",
    "\n",
    "    # Buscando as tags para análise. \n",
    "    # Usaremos blocos try/except para evitar erros na execução, no caso de alguma informação não estar disponível na vaga\n",
    "    \n",
    "    # Título da vaga\n",
    "    try:\n",
    "        title = soup.find(\"a\", class_ = \"jobtitle\").text.replace('\\n', '')\n",
    "    except:\n",
    "        title = 'None'\n",
    "    \n",
    "    # Localidade\n",
    "    try:\n",
    "        location = soup.find(class_ = \"location\").text\n",
    "    except:\n",
    "        location = 'None'\n",
    "    \n",
    "    # Empresa\n",
    "    try:\n",
    "        company = soup.find(class_ = \"company\").text.replace('\\n', '').strip()\n",
    "    except:\n",
    "        company = 'None'\n",
    "    \n",
    "    # Salário\n",
    "    try:\n",
    "        salary = soup.find(\"a\", class_ = \"salary\").text.replace('\\n', '').strip()\n",
    "    except:\n",
    "        salary = 'None'\n",
    "    \n",
    "    # Tipo de pesquisa (orgânica ou patrocinada)\n",
    "    try:\n",
    "        sponsored = soup.find(\"a\", class_ = \"sponsoredGray\").text\n",
    "        sponsored = \"Sponsored\"\n",
    "    except:\n",
    "        sponsored = 'Organic'\n",
    "        \n",
    "    # Aqui buscamos o sumário\n",
    "    try:\n",
    "        sum_div = vaga.find_elements_by_class_name(\"summary\")[0]        \n",
    "        sum_div.click() # Abre uma nova aba no navegador com os dados do sumario da vaga\n",
    "        result_sum_div = sum_div.get_attribute('innerHTML')\n",
    "        # Aplicando o parser do código HTML\n",
    "        soup_sum_div = BeautifulSoup(result_sum_div, 'html.parser')\n",
    "    \n",
    "        try:\n",
    "            sumario = soup_sum_div.find(\"li\", style = \"margin-bottom:0px;\").text.replace('\\n', '').strip()\n",
    "        except:\n",
    "            sumario = 'None'                      \n",
    "        \n",
    "        \n",
    "    except:\n",
    "        sum_div = \"None\"\n",
    "        \n",
    "    # Descrição da vaga\n",
    "    try:\n",
    "        job_desc = driver.find_element_by_id('vjs-desc').text                    \n",
    "    except:\n",
    "        job_desc = \"None\"\n",
    "    \n",
    "    # Gravamos o resultado em nosso dataframe\n",
    "    dados = dados.append({\"Titulo\":title, \n",
    "                          \"Localidade\":location, \n",
    "                          \"Empresa\":company, \n",
    "                          \"Salario\":salary, \n",
    "                          \"Tipo_Pesquisa\":sponsored, \n",
    "                          \"Desc\":job_desc,\n",
    "                          \"Sumario\": sumario}, \n",
    "                         ignore_index = True)"
   ]
  },
  {
   "cell_type": "code",
   "execution_count": 64,
   "metadata": {},
   "outputs": [
    {
     "data": {
      "text/plain": [
       "(15, 7)"
      ]
     },
     "execution_count": 64,
     "metadata": {},
     "output_type": "execute_result"
    }
   ],
   "source": [
    "# Shape\n",
    "dados.shape"
   ]
  },
  {
   "cell_type": "code",
   "execution_count": 65,
   "metadata": {},
   "outputs": [
    {
     "data": {
      "text/html": [
       "<div>\n",
       "<style scoped>\n",
       "    .dataframe tbody tr th:only-of-type {\n",
       "        vertical-align: middle;\n",
       "    }\n",
       "\n",
       "    .dataframe tbody tr th {\n",
       "        vertical-align: top;\n",
       "    }\n",
       "\n",
       "    .dataframe thead th {\n",
       "        text-align: right;\n",
       "    }\n",
       "</style>\n",
       "<table border=\"1\" class=\"dataframe\">\n",
       "  <thead>\n",
       "    <tr style=\"text-align: right;\">\n",
       "      <th></th>\n",
       "      <th>Titulo</th>\n",
       "      <th>Localidade</th>\n",
       "      <th>Empresa</th>\n",
       "      <th>Salario</th>\n",
       "      <th>Tipo_Pesquisa</th>\n",
       "      <th>Desc</th>\n",
       "      <th>Sumario</th>\n",
       "    </tr>\n",
       "  </thead>\n",
       "  <tbody>\n",
       "    <tr>\n",
       "      <th>0</th>\n",
       "      <td>Applied Data Scientist</td>\n",
       "      <td>São Paulo, SP</td>\n",
       "      <td>dunnhumby</td>\n",
       "      <td>None</td>\n",
       "      <td>Organic</td>\n",
       "      <td>dunnhumby is the world’s leading customer scie...</td>\n",
       "      <td>Deploy data science algorithms and market prod...</td>\n",
       "    </tr>\n",
       "    <tr>\n",
       "      <th>1</th>\n",
       "      <td>Desenvolvedor(a) Data Science Python pleno (re...</td>\n",
       "      <td>Brasil</td>\n",
       "      <td>GeekHunter</td>\n",
       "      <td>None</td>\n",
       "      <td>Organic</td>\n",
       "      <td>Esta é uma vaga de um cliente da GeekHunter, c...</td>\n",
       "      <td>Esta é uma vaga de um cliente da GeekHunter, c...</td>\n",
       "    </tr>\n",
       "    <tr>\n",
       "      <th>2</th>\n",
       "      <td>Data Expert</td>\n",
       "      <td>São Paulo, SP</td>\n",
       "      <td>Unilever</td>\n",
       "      <td>None</td>\n",
       "      <td>Organic</td>\n",
       "      <td>Background\\n\\nFor Unilever to remain competiti...</td>\n",
       "      <td>Facilitate data integration and data explorati...</td>\n",
       "    </tr>\n",
       "    <tr>\n",
       "      <th>3</th>\n",
       "      <td>Data Scientist en Vie Brésil (H/F)</td>\n",
       "      <td>São Paulo, SP</td>\n",
       "      <td>Keyrus</td>\n",
       "      <td>None</td>\n",
       "      <td>Organic</td>\n",
       "      <td>Vos missions :\\nAccompagner nos clients dans l...</td>\n",
       "      <td>Accompagner nos clients dans la formalisation ...</td>\n",
       "    </tr>\n",
       "    <tr>\n",
       "      <th>4</th>\n",
       "      <td>Estágio em Data Science</td>\n",
       "      <td>Florianópolis, SC</td>\n",
       "      <td>Programa de Estágio</td>\n",
       "      <td>None</td>\n",
       "      <td>Organic</td>\n",
       "      <td>Vos missions :\\nAccompagner nos clients dans l...</td>\n",
       "      <td>Accompagner nos clients dans la formalisation ...</td>\n",
       "    </tr>\n",
       "    <tr>\n",
       "      <th>5</th>\n",
       "      <td>Head Data Science</td>\n",
       "      <td>Nova Lima, MG</td>\n",
       "      <td>Viridis Energy</td>\n",
       "      <td>None</td>\n",
       "      <td>Organic</td>\n",
       "      <td>Vos missions :\\nAccompagner nos clients dans l...</td>\n",
       "      <td>Accompagner nos clients dans la formalisation ...</td>\n",
       "    </tr>\n",
       "    <tr>\n",
       "      <th>6</th>\n",
       "      <td>Analista de Banco de Dados - Data Science</td>\n",
       "      <td>Recife, PE</td>\n",
       "      <td>FindUP</td>\n",
       "      <td>None</td>\n",
       "      <td>Organic</td>\n",
       "      <td>Vos missions :\\nAccompagner nos clients dans l...</td>\n",
       "      <td>Accompagner nos clients dans la formalisation ...</td>\n",
       "    </tr>\n",
       "    <tr>\n",
       "      <th>7</th>\n",
       "      <td>Estágio - Ciências da Computação/Sistemas de i...</td>\n",
       "      <td>Santo Antônio de Lisboa, SC</td>\n",
       "      <td>IEL/SC</td>\n",
       "      <td>None</td>\n",
       "      <td>Organic</td>\n",
       "      <td>Vos missions :\\nAccompagner nos clients dans l...</td>\n",
       "      <td>Accompagner nos clients dans la formalisation ...</td>\n",
       "    </tr>\n",
       "    <tr>\n",
       "      <th>8</th>\n",
       "      <td>Data Science Immersive Instructor</td>\n",
       "      <td>Amazonas</td>\n",
       "      <td>GA Instructor</td>\n",
       "      <td>None</td>\n",
       "      <td>Organic</td>\n",
       "      <td>Vos missions :\\nAccompagner nos clients dans l...</td>\n",
       "      <td>Accompagner nos clients dans la formalisation ...</td>\n",
       "    </tr>\n",
       "    <tr>\n",
       "      <th>9</th>\n",
       "      <td>Data Science - Sênior</td>\n",
       "      <td>São Paulo, SP</td>\n",
       "      <td>PicPay</td>\n",
       "      <td>None</td>\n",
       "      <td>Organic</td>\n",
       "      <td>Vos missions :\\nAccompagner nos clients dans l...</td>\n",
       "      <td>Accompagner nos clients dans la formalisation ...</td>\n",
       "    </tr>\n",
       "    <tr>\n",
       "      <th>10</th>\n",
       "      <td>Analista Data Science | SP</td>\n",
       "      <td>São Paulo, SP</td>\n",
       "      <td>Grupo Globo</td>\n",
       "      <td>None</td>\n",
       "      <td>Organic</td>\n",
       "      <td>Vos missions :\\nAccompagner nos clients dans l...</td>\n",
       "      <td>Accompagner nos clients dans la formalisation ...</td>\n",
       "    </tr>\n",
       "    <tr>\n",
       "      <th>11</th>\n",
       "      <td>Analista Data Science | SP</td>\n",
       "      <td>São Paulo, SP</td>\n",
       "      <td>Globo.com</td>\n",
       "      <td>None</td>\n",
       "      <td>Organic</td>\n",
       "      <td>Vos missions :\\nAccompagner nos clients dans l...</td>\n",
       "      <td>Accompagner nos clients dans la formalisation ...</td>\n",
       "    </tr>\n",
       "    <tr>\n",
       "      <th>12</th>\n",
       "      <td>DATA SCIENCE CONSULTANT SAO PAULO</td>\n",
       "      <td>São Paulo, SP</td>\n",
       "      <td>managementsolutions</td>\n",
       "      <td>None</td>\n",
       "      <td>Organic</td>\n",
       "      <td>Vos missions :\\nAccompagner nos clients dans l...</td>\n",
       "      <td>Accompagner nos clients dans la formalisation ...</td>\n",
       "    </tr>\n",
       "    <tr>\n",
       "      <th>13</th>\n",
       "      <td>Data Scientist</td>\n",
       "      <td>São Paulo, SP</td>\n",
       "      <td>Dasa EXP - Tecnologia</td>\n",
       "      <td>None</td>\n",
       "      <td>Organic</td>\n",
       "      <td>Vos missions :\\nAccompagner nos clients dans l...</td>\n",
       "      <td>Accompagner nos clients dans la formalisation ...</td>\n",
       "    </tr>\n",
       "    <tr>\n",
       "      <th>14</th>\n",
       "      <td>Researcher Specialist (Data Scientist)</td>\n",
       "      <td>Campinas, SP</td>\n",
       "      <td>Samsung Electronics</td>\n",
       "      <td>None</td>\n",
       "      <td>Organic</td>\n",
       "      <td>Vos missions :\\nAccompagner nos clients dans l...</td>\n",
       "      <td>Organize data in order to guarantee high quali...</td>\n",
       "    </tr>\n",
       "  </tbody>\n",
       "</table>\n",
       "</div>"
      ],
      "text/plain": [
       "                                               Titulo  \\\n",
       "0                              Applied Data Scientist   \n",
       "1   Desenvolvedor(a) Data Science Python pleno (re...   \n",
       "2                                         Data Expert   \n",
       "3                  Data Scientist en Vie Brésil (H/F)   \n",
       "4                             Estágio em Data Science   \n",
       "5                                   Head Data Science   \n",
       "6           Analista de Banco de Dados - Data Science   \n",
       "7   Estágio - Ciências da Computação/Sistemas de i...   \n",
       "8                   Data Science Immersive Instructor   \n",
       "9                               Data Science - Sênior   \n",
       "10                         Analista Data Science | SP   \n",
       "11                         Analista Data Science | SP   \n",
       "12                  DATA SCIENCE CONSULTANT SAO PAULO   \n",
       "13                                     Data Scientist   \n",
       "14             Researcher Specialist (Data Scientist)   \n",
       "\n",
       "                     Localidade                Empresa Salario Tipo_Pesquisa  \\\n",
       "0                 São Paulo, SP              dunnhumby    None       Organic   \n",
       "1                        Brasil             GeekHunter    None       Organic   \n",
       "2                 São Paulo, SP               Unilever    None       Organic   \n",
       "3                 São Paulo, SP                 Keyrus    None       Organic   \n",
       "4             Florianópolis, SC    Programa de Estágio    None       Organic   \n",
       "5                 Nova Lima, MG         Viridis Energy    None       Organic   \n",
       "6                    Recife, PE                 FindUP    None       Organic   \n",
       "7   Santo Antônio de Lisboa, SC                 IEL/SC    None       Organic   \n",
       "8                      Amazonas          GA Instructor    None       Organic   \n",
       "9                 São Paulo, SP                 PicPay    None       Organic   \n",
       "10                São Paulo, SP            Grupo Globo    None       Organic   \n",
       "11                São Paulo, SP              Globo.com    None       Organic   \n",
       "12                São Paulo, SP    managementsolutions    None       Organic   \n",
       "13                São Paulo, SP  Dasa EXP - Tecnologia    None       Organic   \n",
       "14                 Campinas, SP    Samsung Electronics    None       Organic   \n",
       "\n",
       "                                                 Desc  \\\n",
       "0   dunnhumby is the world’s leading customer scie...   \n",
       "1   Esta é uma vaga de um cliente da GeekHunter, c...   \n",
       "2   Background\\n\\nFor Unilever to remain competiti...   \n",
       "3   Vos missions :\\nAccompagner nos clients dans l...   \n",
       "4   Vos missions :\\nAccompagner nos clients dans l...   \n",
       "5   Vos missions :\\nAccompagner nos clients dans l...   \n",
       "6   Vos missions :\\nAccompagner nos clients dans l...   \n",
       "7   Vos missions :\\nAccompagner nos clients dans l...   \n",
       "8   Vos missions :\\nAccompagner nos clients dans l...   \n",
       "9   Vos missions :\\nAccompagner nos clients dans l...   \n",
       "10  Vos missions :\\nAccompagner nos clients dans l...   \n",
       "11  Vos missions :\\nAccompagner nos clients dans l...   \n",
       "12  Vos missions :\\nAccompagner nos clients dans l...   \n",
       "13  Vos missions :\\nAccompagner nos clients dans l...   \n",
       "14  Vos missions :\\nAccompagner nos clients dans l...   \n",
       "\n",
       "                                              Sumario  \n",
       "0   Deploy data science algorithms and market prod...  \n",
       "1   Esta é uma vaga de um cliente da GeekHunter, c...  \n",
       "2   Facilitate data integration and data explorati...  \n",
       "3   Accompagner nos clients dans la formalisation ...  \n",
       "4   Accompagner nos clients dans la formalisation ...  \n",
       "5   Accompagner nos clients dans la formalisation ...  \n",
       "6   Accompagner nos clients dans la formalisation ...  \n",
       "7   Accompagner nos clients dans la formalisation ...  \n",
       "8   Accompagner nos clients dans la formalisation ...  \n",
       "9   Accompagner nos clients dans la formalisation ...  \n",
       "10  Accompagner nos clients dans la formalisation ...  \n",
       "11  Accompagner nos clients dans la formalisation ...  \n",
       "12  Accompagner nos clients dans la formalisation ...  \n",
       "13  Accompagner nos clients dans la formalisation ...  \n",
       "14  Organize data in order to guarantee high quali...  "
      ]
     },
     "execution_count": 65,
     "metadata": {},
     "output_type": "execute_result"
    }
   ],
   "source": [
    "dados"
   ]
  },
  {
   "cell_type": "markdown",
   "metadata": {},
   "source": [
    "Agora podemos iniciar a análise de Dados!! \n",
    "\n",
    "Salvando em disco os dados obtidos para caso seja necessário, não precisar executar o scraping no site novamente."
   ]
  },
  {
   "cell_type": "code",
   "execution_count": 66,
   "metadata": {},
   "outputs": [],
   "source": [
    "# Salvamos os dados em disco\n",
    "dados.to_csv('resultado/dados.csv', encoding = \"utf-8\", index = False)"
   ]
  },
  {
   "cell_type": "markdown",
   "metadata": {},
   "source": [
    "## Análise de Dados"
   ]
  },
  {
   "cell_type": "code",
   "execution_count": 67,
   "metadata": {},
   "outputs": [],
   "source": [
    "# Carregando o dataset salvo\n",
    "df = pd.read_csv(\"resultado/dados.csv\", encoding = \"utf-8\")"
   ]
  },
  {
   "cell_type": "code",
   "execution_count": 68,
   "metadata": {},
   "outputs": [
    {
     "data": {
      "text/html": [
       "<div>\n",
       "<style scoped>\n",
       "    .dataframe tbody tr th:only-of-type {\n",
       "        vertical-align: middle;\n",
       "    }\n",
       "\n",
       "    .dataframe tbody tr th {\n",
       "        vertical-align: top;\n",
       "    }\n",
       "\n",
       "    .dataframe thead th {\n",
       "        text-align: right;\n",
       "    }\n",
       "</style>\n",
       "<table border=\"1\" class=\"dataframe\">\n",
       "  <thead>\n",
       "    <tr style=\"text-align: right;\">\n",
       "      <th></th>\n",
       "      <th>Titulo</th>\n",
       "      <th>Localidade</th>\n",
       "      <th>Empresa</th>\n",
       "      <th>Salario</th>\n",
       "      <th>Tipo_Pesquisa</th>\n",
       "      <th>Desc</th>\n",
       "      <th>Sumario</th>\n",
       "    </tr>\n",
       "  </thead>\n",
       "  <tbody>\n",
       "    <tr>\n",
       "      <th>0</th>\n",
       "      <td>Applied Data Scientist</td>\n",
       "      <td>São Paulo, SP</td>\n",
       "      <td>dunnhumby</td>\n",
       "      <td>None</td>\n",
       "      <td>Organic</td>\n",
       "      <td>dunnhumby is the world’s leading customer scie...</td>\n",
       "      <td>Deploy data science algorithms and market prod...</td>\n",
       "    </tr>\n",
       "    <tr>\n",
       "      <th>1</th>\n",
       "      <td>Desenvolvedor(a) Data Science Python pleno (re...</td>\n",
       "      <td>Brasil</td>\n",
       "      <td>GeekHunter</td>\n",
       "      <td>None</td>\n",
       "      <td>Organic</td>\n",
       "      <td>Esta é uma vaga de um cliente da GeekHunter, c...</td>\n",
       "      <td>Esta é uma vaga de um cliente da GeekHunter, c...</td>\n",
       "    </tr>\n",
       "    <tr>\n",
       "      <th>2</th>\n",
       "      <td>Data Expert</td>\n",
       "      <td>São Paulo, SP</td>\n",
       "      <td>Unilever</td>\n",
       "      <td>None</td>\n",
       "      <td>Organic</td>\n",
       "      <td>Background\\n\\nFor Unilever to remain competiti...</td>\n",
       "      <td>Facilitate data integration and data explorati...</td>\n",
       "    </tr>\n",
       "    <tr>\n",
       "      <th>3</th>\n",
       "      <td>Data Scientist en Vie Brésil (H/F)</td>\n",
       "      <td>São Paulo, SP</td>\n",
       "      <td>Keyrus</td>\n",
       "      <td>None</td>\n",
       "      <td>Organic</td>\n",
       "      <td>Vos missions :\\nAccompagner nos clients dans l...</td>\n",
       "      <td>Accompagner nos clients dans la formalisation ...</td>\n",
       "    </tr>\n",
       "    <tr>\n",
       "      <th>4</th>\n",
       "      <td>Estágio em Data Science</td>\n",
       "      <td>Florianópolis, SC</td>\n",
       "      <td>Programa de Estágio</td>\n",
       "      <td>None</td>\n",
       "      <td>Organic</td>\n",
       "      <td>Vos missions :\\nAccompagner nos clients dans l...</td>\n",
       "      <td>Accompagner nos clients dans la formalisation ...</td>\n",
       "    </tr>\n",
       "  </tbody>\n",
       "</table>\n",
       "</div>"
      ],
      "text/plain": [
       "                                              Titulo         Localidade  \\\n",
       "0                             Applied Data Scientist      São Paulo, SP   \n",
       "1  Desenvolvedor(a) Data Science Python pleno (re...             Brasil   \n",
       "2                                        Data Expert      São Paulo, SP   \n",
       "3                 Data Scientist en Vie Brésil (H/F)      São Paulo, SP   \n",
       "4                            Estágio em Data Science  Florianópolis, SC   \n",
       "\n",
       "               Empresa Salario Tipo_Pesquisa  \\\n",
       "0            dunnhumby    None       Organic   \n",
       "1           GeekHunter    None       Organic   \n",
       "2             Unilever    None       Organic   \n",
       "3               Keyrus    None       Organic   \n",
       "4  Programa de Estágio    None       Organic   \n",
       "\n",
       "                                                Desc  \\\n",
       "0  dunnhumby is the world’s leading customer scie...   \n",
       "1  Esta é uma vaga de um cliente da GeekHunter, c...   \n",
       "2  Background\\n\\nFor Unilever to remain competiti...   \n",
       "3  Vos missions :\\nAccompagner nos clients dans l...   \n",
       "4  Vos missions :\\nAccompagner nos clients dans l...   \n",
       "\n",
       "                                             Sumario  \n",
       "0  Deploy data science algorithms and market prod...  \n",
       "1  Esta é uma vaga de um cliente da GeekHunter, c...  \n",
       "2  Facilitate data integration and data explorati...  \n",
       "3  Accompagner nos clients dans la formalisation ...  \n",
       "4  Accompagner nos clients dans la formalisation ...  "
      ]
     },
     "execution_count": 68,
     "metadata": {},
     "output_type": "execute_result"
    }
   ],
   "source": [
    "# Visualiza os dados\n",
    "df.head()"
   ]
  },
  {
   "cell_type": "markdown",
   "metadata": {},
   "source": [
    "### Tarefa 1: Qual o tipo de vaga mostrado na pesquisa, orgânica ou patrocinada?"
   ]
  },
  {
   "cell_type": "code",
   "execution_count": 69,
   "metadata": {},
   "outputs": [
    {
     "data": {
      "text/plain": [
       "Organic    15\n",
       "Name: Tipo_Pesquisa, dtype: int64"
      ]
     },
     "execution_count": 69,
     "metadata": {},
     "output_type": "execute_result"
    }
   ],
   "source": [
    "# Vamos contar o total de registros por valor da coluna \"Tipo_Pesquisa\"\n",
    "df[\"Tipo_Pesquisa\"].value_counts()"
   ]
  },
  {
   "cell_type": "markdown",
   "metadata": {},
   "source": [
    "Todas as vagas foram orgânicas."
   ]
  },
  {
   "cell_type": "markdown",
   "metadata": {},
   "source": [
    "### Tarefa 2: Quais empresas tem o maior número de vagas listadas?"
   ]
  },
  {
   "cell_type": "code",
   "execution_count": 70,
   "metadata": {},
   "outputs": [],
   "source": [
    "# Agrupa o dataset por empresa\n",
    "grupo1 = df.groupby(\"Empresa\").count()[\"Titulo\"].sort_values(ascending = False)"
   ]
  },
  {
   "cell_type": "code",
   "execution_count": 71,
   "metadata": {},
   "outputs": [
    {
     "data": {
      "text/plain": [
       "Empresa\n",
       "managementsolutions    1\n",
       "dunnhumby              1\n",
       "Viridis Energy         1\n",
       "Unilever               1\n",
       "Samsung Electronics    1\n",
       "Name: Titulo, dtype: int64"
      ]
     },
     "execution_count": 71,
     "metadata": {},
     "output_type": "execute_result"
    }
   ],
   "source": [
    "# Visualiza os dados\n",
    "grupo1.head()"
   ]
  },
  {
   "cell_type": "code",
   "execution_count": 72,
   "metadata": {},
   "outputs": [
    {
     "data": {
      "text/plain": [
       "<matplotlib.axes._subplots.AxesSubplot at 0x22cbf997748>"
      ]
     },
     "execution_count": 72,
     "metadata": {},
     "output_type": "execute_result"
    },
    {
     "data": {
      "image/png": "[encoded data removed]",
      "text/plain": [
       "<Figure size 1296x432 with 1 Axes>"
      ]
     },
     "metadata": {
      "needs_background": "light"
     },
     "output_type": "display_data"
    }
   ],
   "source": [
    "# Gráfico\n",
    "grupo1.plot(kind = \"bar\", figsize = (18,6), color = \"green\", rot = 60)"
   ]
  },
  {
   "cell_type": "markdown",
   "metadata": {},
   "source": [
    "Como a coleta foi pequena e não avançamos para outras páginas do site, o retorno acabou sendo 1 vaga de cada empresa."
   ]
  },
  {
   "cell_type": "markdown",
   "metadata": {},
   "source": [
    "### Tarefa 3: Qual localidade tem o maior número de vagas listadas?"
   ]
  },
  {
   "cell_type": "code",
   "execution_count": 73,
   "metadata": {},
   "outputs": [],
   "source": [
    "# Busca localidade com mais vagas\n",
    "grupo2 = df.groupby(\"Localidade\").count()[\"Titulo\"].sort_values(ascending = False)"
   ]
  },
  {
   "cell_type": "code",
   "execution_count": 74,
   "metadata": {},
   "outputs": [
    {
     "data": {
      "text/plain": [
       "Localidade\n",
       "São Paulo, SP                  8\n",
       "Santo Antônio de Lisboa, SC    1\n",
       "Recife, PE                     1\n",
       "Nova Lima, MG                  1\n",
       "Florianópolis, SC              1\n",
       "Name: Titulo, dtype: int64"
      ]
     },
     "execution_count": 74,
     "metadata": {},
     "output_type": "execute_result"
    }
   ],
   "source": [
    "# Visualiza os dados\n",
    "grupo2.head()"
   ]
  },
  {
   "cell_type": "code",
   "execution_count": 75,
   "metadata": {},
   "outputs": [
    {
     "data": {
      "text/plain": [
       "<matplotlib.axes._subplots.AxesSubplot at 0x22cbf8faa20>"
      ]
     },
     "execution_count": 75,
     "metadata": {},
     "output_type": "execute_result"
    },
    {
     "data": {
      "image/png": "[encoded data removed]",
      "text/plain": [
       "<Figure size 1296x432 with 1 Axes>"
      ]
     },
     "metadata": {
      "needs_background": "light"
     },
     "output_type": "display_data"
    }
   ],
   "source": [
    "# Gráfico\n",
    "grupo2.plot(kind = \"bar\", figsize = (18,6), color = \"blue\", rot = 30)"
   ]
  },
  {
   "cell_type": "markdown",
   "metadata": {},
   "source": [
    "### Tarefa 4: Quais os skills mais comuns nas descrições das vagas?"
   ]
  },
  {
   "cell_type": "markdown",
   "metadata": {},
   "source": [
    "Agora aplicamos Processamento de Linguagem Natural para extrair alguns insights das descrições das vagas."
   ]
  },
  {
   "cell_type": "code",
   "execution_count": 76,
   "metadata": {},
   "outputs": [],
   "source": [
    "# Função de limpeza dos dados\n",
    "def limpa_dados(desc):\n",
    "    desc = word_tokenize(desc)\n",
    "    desc = [word.lower() for word in desc if word.isalpha() and len(word) > 2]\n",
    "    desc = [word for word in desc if word not in stop_words_pt]\n",
    "    desc = [word for word in desc if word not in stop_words_en]\n",
    "    return desc"
   ]
  },
  {
   "cell_type": "code",
   "execution_count": 77,
   "metadata": {},
   "outputs": [],
   "source": [
    "# Vamos definir a lista de stopwords em português\n",
    "stop_words_pt = stopwords.words('portuguese')"
   ]
  },
  {
   "cell_type": "code",
   "execution_count": 78,
   "metadata": {},
   "outputs": [],
   "source": [
    "# Vamos definir a lista de stopwords em inglês\n",
    "stop_words_en = stopwords.words('english')"
   ]
  },
  {
   "cell_type": "code",
   "execution_count": 79,
   "metadata": {},
   "outputs": [],
   "source": [
    "# Vamos definir a lista de stopwords em Espanhol\n",
    "stop_words_spain = stopwords.words('spanish')"
   ]
  },
  {
   "cell_type": "code",
   "execution_count": 80,
   "metadata": {},
   "outputs": [],
   "source": [
    "# Aplicamos a função de limpeza a coluna de Sumario da vaga\n",
    "desc_vagas = df[\"Desc\"].apply(limpa_dados)"
   ]
  },
  {
   "cell_type": "code",
   "execution_count": 81,
   "metadata": {},
   "outputs": [
    {
     "data": {
      "text/plain": [
       "0    [dunnhumby, world, leading, customer, science,...\n",
       "1    [vaga, cliente, geekhunter, ter, acesso, infor...\n",
       "2    [background, unilever, remain, competitive, fu...\n",
       "3    [missions, accompagner, clients, dans, formali...\n",
       "4    [missions, accompagner, clients, dans, formali...\n",
       "Name: Desc, dtype: object"
      ]
     },
     "execution_count": 81,
     "metadata": {},
     "output_type": "execute_result"
    }
   ],
   "source": [
    "# Visualiza os dados\n",
    "desc_vagas.head()"
   ]
  },
  {
   "cell_type": "code",
   "execution_count": 82,
   "metadata": {},
   "outputs": [],
   "source": [
    "# Vamos sumarizar as descrições das vagas\n",
    "desc_itens = desc_vagas.apply(Counter).sum().items()"
   ]
  },
  {
   "cell_type": "code",
   "execution_count": 83,
   "metadata": {},
   "outputs": [],
   "source": [
    "# Ordenamos o resultado\n",
    "desc_itens = sorted(desc_itens, key = lambda kv: kv[1], reverse = True)"
   ]
  },
  {
   "cell_type": "code",
   "execution_count": 89,
   "metadata": {},
   "outputs": [
    {
     "data": {
      "text/plain": [
       "[('data', 89),\n",
       " ('des', 72),\n",
       " ('dans', 36),\n",
       " ('besoins', 36),\n",
       " ('données', 36),\n",
       " ('learning', 30),\n",
       " ('business', 29),\n",
       " ('clients', 28),\n",
       " ('complexes', 24),\n",
       " ('les', 24),\n",
       " ('aux', 24),\n",
       " ('modèles', 24),\n",
       " ('ecole', 24),\n",
       " ('connaissance', 24),\n",
       " ('science', 23),\n",
       " ('machine', 16),\n",
       " ('intelligence', 15),\n",
       " ('power', 14),\n",
       " ('analyse', 13),\n",
       " ('technique', 13),\n",
       " ('volumes', 13),\n",
       " ('paulo', 13),\n",
       " ('possible', 13),\n",
       " ('transformation', 13),\n",
       " ('missions', 12),\n",
       " ('accompagner', 12),\n",
       " ('formalisation', 12),\n",
       " ('leurs', 12),\n",
       " ('métier', 12),\n",
       " ('sous', 12),\n",
       " ('forme', 12),\n",
       " ('problématiques', 12),\n",
       " ('claires', 12),\n",
       " ('réalisables', 12),\n",
       " ('explorer', 12),\n",
       " ('larges', 12),\n",
       " ('hétérogènes', 12),\n",
       " ('afin', 12),\n",
       " ('extraire', 12),\n",
       " ('connaissances', 12),\n",
       " ('utiles', 12),\n",
       " ('pour', 12),\n",
       " ('prise', 12),\n",
       " ('décision', 12),\n",
       " ('restituer', 12),\n",
       " ('métiers', 12),\n",
       " ('mettre', 12),\n",
       " ('place', 12),\n",
       " ('deep', 12),\n",
       " ('permettant', 12),\n",
       " ('modéliser', 12),\n",
       " ('phénomènes', 12),\n",
       " ('répondre', 12),\n",
       " ('variés', 12),\n",
       " ('détection', 12),\n",
       " ('fraude', 12),\n",
       " ('maintenance', 12),\n",
       " ('prédictive', 12),\n",
       " ('etc', 12),\n",
       " ('participer', 12),\n",
       " ('étroite', 12),\n",
       " ('collaboration', 12),\n",
       " ('avec', 12),\n",
       " ('engineers', 12),\n",
       " ('industrialisation', 12),\n",
       " ('mise', 12),\n",
       " ('production', 12),\n",
       " ('pipelines', 12),\n",
       " ('développées', 12),\n",
       " ('notre', 12),\n",
       " ('candidat', 12),\n",
       " ('idéal', 12),\n",
       " ('diplômé', 12),\n",
       " ('enseignement', 12),\n",
       " ('supérieur', 12),\n",
       " ('commerce', 12),\n",
       " ('ingénieurs', 12),\n",
       " ('université', 12),\n",
       " ('première', 12),\n",
       " ('expérience', 12),\n",
       " ('contexte', 12),\n",
       " ('affaires', 12),\n",
       " ('spécifications', 12),\n",
       " ('fonctionnelles', 12),\n",
       " ('modélisation', 12),\n",
       " ('multidimensionnelle', 12),\n",
       " ('sur', 12),\n",
       " ('alteryx', 12),\n",
       " ('atout', 12),\n",
       " ('approfondie', 12),\n",
       " ('excel', 12),\n",
       " ('query', 12),\n",
       " ('tableaux', 12),\n",
       " ('croisés', 12),\n",
       " ('dynamiques', 12),\n",
       " ('macros', 12),\n",
       " ('vba', 12),\n",
       " ('capacité', 12),\n",
       " ('structurer', 12),\n",
       " ('mener', 12),\n",
       " ('réunions', 12),\n",
       " ('multidisciplinaires', 12),\n",
       " ('habiletés', 12),\n",
       " ('synthétiser', 12),\n",
       " ('communiquer', 12),\n",
       " ('langage', 12),\n",
       " ('non', 12),\n",
       " ('courant', 12),\n",
       " ('anglais', 12),\n",
       " ('portugais', 12),\n",
       " ('contrat', 12),\n",
       " ('vie', 12),\n",
       " ('localisation', 12),\n",
       " ('sao', 12),\n",
       " ('brésil', 12),\n",
       " ('durée', 12),\n",
       " ('mois', 12),\n",
       " ('rémunération', 12),\n",
       " ('selon', 12),\n",
       " ('barème', 12),\n",
       " ('france', 12),\n",
       " ('démarrage', 12),\n",
       " ('dès', 12),\n",
       " ('dunnhumby', 10),\n",
       " ('work', 10),\n",
       " ('insights', 9),\n",
       " ('analytics', 8),\n",
       " ('customer', 7),\n",
       " ('across', 7),\n",
       " ('information', 7),\n",
       " ('working', 7),\n",
       " ('team', 7),\n",
       " ('unilever', 7),\n",
       " ('client', 6),\n",
       " ('skills', 6),\n",
       " ('drive', 5),\n",
       " ('best', 5),\n",
       " ('quality', 5),\n",
       " ('experience', 5),\n",
       " ('impact', 5),\n",
       " ('insight', 5),\n",
       " ('management', 5),\n",
       " ('value', 5),\n",
       " ('fully', 5),\n",
       " ('operational', 5),\n",
       " ('one', 4),\n",
       " ('build', 4),\n",
       " ('projects', 4),\n",
       " ('ensure', 4),\n",
       " ('solutions', 4),\n",
       " ('market', 4),\n",
       " ('products', 4),\n",
       " ('ability', 4),\n",
       " ('building', 4),\n",
       " ('environment', 4),\n",
       " ('teams', 4),\n",
       " ('opportunities', 4),\n",
       " ('make', 4),\n",
       " ('job', 4),\n",
       " ('key', 4),\n",
       " ('organisation', 4),\n",
       " ('leading', 3),\n",
       " ('process', 3),\n",
       " ('competitive', 3),\n",
       " ('execute', 3),\n",
       " ('internal', 3),\n",
       " ('external', 3),\n",
       " ('global', 3),\n",
       " ('delivery', 3),\n",
       " ('required', 3),\n",
       " ('knowledge', 3),\n",
       " ('programming', 3),\n",
       " ('python', 3),\n",
       " ('modelling', 3),\n",
       " ('analysis', 3),\n",
       " ('people', 3),\n",
       " ('culture', 3),\n",
       " ('believe', 3),\n",
       " ('development', 3),\n",
       " ('improve', 3),\n",
       " ('learn', 3),\n",
       " ('balance', 3),\n",
       " ('flexible', 3),\n",
       " ('career', 3),\n",
       " ('dados', 3),\n",
       " ('future', 3),\n",
       " ('intelligent', 3),\n",
       " ('deliver', 3),\n",
       " ('strategy', 3),\n",
       " ('way', 3),\n",
       " ('enterprise', 3),\n",
       " ('sets', 3),\n",
       " ('apply', 2),\n",
       " ('create', 2),\n",
       " ('experiences', 2),\n",
       " ('strategic', 2),\n",
       " ('media', 2),\n",
       " ('customers', 2),\n",
       " ('advantage', 2),\n",
       " ('growth', 2),\n",
       " ('group', 2),\n",
       " ('including', 2),\n",
       " ('please', 2),\n",
       " ('visit', 2),\n",
       " ('looking', 2),\n",
       " ('applied', 2),\n",
       " ('distil', 2),\n",
       " ('complex', 2),\n",
       " ('problems', 2),\n",
       " ('compelling', 2),\n",
       " ('resonate', 2),\n",
       " ('using', 2),\n",
       " ('strong', 2),\n",
       " ('clear', 2),\n",
       " ('effective', 2),\n",
       " ('communication', 2),\n",
       " ('implement', 2),\n",
       " ('analytical', 2),\n",
       " ('project', 2),\n",
       " ('others', 2),\n",
       " ('help', 2),\n",
       " ('assurance', 2),\n",
       " ('ways', 2),\n",
       " ('meet', 2),\n",
       " ('qualifications', 2),\n",
       " ('bachelor', 2),\n",
       " ('degree', 2),\n",
       " ('computer', 2),\n",
       " ('statistics', 2),\n",
       " ('making', 2),\n",
       " ('hadoop', 2),\n",
       " ('sql', 2),\n",
       " ('statistical', 2),\n",
       " ('visualisation', 2),\n",
       " ('life', 2),\n",
       " ('ambitious', 2),\n",
       " ('understand', 2),\n",
       " ('explore', 2),\n",
       " ('part', 2),\n",
       " ('provide', 2),\n",
       " ('diversity', 2),\n",
       " ('respect', 2),\n",
       " ('commitments', 2),\n",
       " ('discover', 2),\n",
       " ('vaga', 2),\n",
       " ('empresa', 2),\n",
       " ('bônus', 2),\n",
       " ('saber', 2),\n",
       " ('fundamental', 2),\n",
       " ('sim', 2),\n",
       " ('habilidades', 2),\n",
       " ('background', 2),\n",
       " ('become', 2),\n",
       " ('responsible', 2),\n",
       " ('performance', 2),\n",
       " ('scale', 2),\n",
       " ('decisions', 2),\n",
       " ('cross', 2),\n",
       " ('functional', 2),\n",
       " ('move', 2),\n",
       " ('accurate', 2),\n",
       " ('big', 2),\n",
       " ('markets', 2),\n",
       " ('assisted', 2),\n",
       " ('unlocking', 2),\n",
       " ('consumer', 2),\n",
       " ('asset', 2),\n",
       " ('focus', 2),\n",
       " ('leadership', 2),\n",
       " ('useful', 2),\n",
       " ('identify', 2),\n",
       " ('role', 2),\n",
       " ('around', 2),\n",
       " ('users', 2),\n",
       " ('visualization', 2),\n",
       " ('techniques', 2),\n",
       " ('include', 2),\n",
       " ('exploration', 2),\n",
       " ('relevant', 2),\n",
       " ('actionable', 2),\n",
       " ('world', 1),\n",
       " ('company', 1),\n",
       " ('nearly', 1),\n",
       " ('billion', 1),\n",
       " ('shoppers', 1),\n",
       " ('globe', 1),\n",
       " ('personalised', 1),\n",
       " ('digital', 1),\n",
       " ('mobile', 1),\n",
       " ('retail', 1),\n",
       " ('environments', 1),\n",
       " ('proprietary', 1),\n",
       " ('multichannel', 1),\n",
       " ('capabilities', 1),\n",
       " ('loyalty', 1),\n",
       " ('sustained', 1),\n",
       " ('employs', 1),\n",
       " ('experts', 1),\n",
       " ('offices', 1),\n",
       " ('throughout', 1),\n",
       " ('europe', 1),\n",
       " ('asia', 1),\n",
       " ('africa', 1),\n",
       " ('americas', 1),\n",
       " ('works', 1),\n",
       " ('prestigious', 1),\n",
       " ('companies', 1),\n",
       " ('tesco', 1),\n",
       " ('monoprix', 1),\n",
       " ('raley', 1),\n",
       " ('macy', 1),\n",
       " ('procter', 1),\n",
       " ('gamble', 1),\n",
       " ('pepsico', 1),\n",
       " ('talented', 1),\n",
       " ('scientist', 1),\n",
       " ('relationships', 1),\n",
       " ('immediate', 1),\n",
       " ('contacts', 1),\n",
       " ('direct', 1),\n",
       " ('full', 1),\n",
       " ('understanding', 1),\n",
       " ('requirements', 1),\n",
       " ('ensuring', 1),\n",
       " ('investigate', 1),\n",
       " ('appropriate', 1),\n",
       " ('developing', 1),\n",
       " ('code', 1),\n",
       " ('written', 1),\n",
       " ('deploy', 1),\n",
       " ('algorithms', 1),\n",
       " ('chosen', 1),\n",
       " ('tech', 1),\n",
       " ('stack', 1),\n",
       " ('efficient', 1),\n",
       " ('participate', 1),\n",
       " ('meetings', 1),\n",
       " ('explain', 1),\n",
       " ('proposed', 1),\n",
       " ('methodology', 1),\n",
       " ('document', 1),\n",
       " ('learnings', 1),\n",
       " ('deploying', 1),\n",
       " ('increase', 1),\n",
       " ('existing', 1),\n",
       " ('repository', 1),\n",
       " ('smooth', 1),\n",
       " ('running', 1),\n",
       " ('senior', 1),\n",
       " ('members', 1),\n",
       " ('direction', 1),\n",
       " ('follow', 1),\n",
       " ('processes', 1),\n",
       " ('coding', 1),\n",
       " ('standards', 1),\n",
       " ('advice', 1),\n",
       " ('colleagues', 1),\n",
       " ('resolve', 1),\n",
       " ('challenges', 1),\n",
       " ('need', 1),\n",
       " ('equivalent', 1),\n",
       " ('artificial', 1),\n",
       " ('physics', 1),\n",
       " ('engineering', 1),\n",
       " ('related', 1),\n",
       " ('field', 1),\n",
       " ('passion', 1),\n",
       " ('connecting', 1),\n",
       " ('directly', 1),\n",
       " ('real', 1),\n",
       " ('tangible', 1),\n",
       " ('quickly', 1),\n",
       " ('pick', 1),\n",
       " ('handling', 1),\n",
       " ('large', 1),\n",
       " ('modern', 1),\n",
       " ('processing', 1),\n",
       " ('tools', 1),\n",
       " ('spark', 1),\n",
       " ('desk', 1),\n",
       " ('research', 1),\n",
       " ('prototyping', 1),\n",
       " ('testing', 1),\n",
       " ('storytelling', 1),\n",
       " ('relationship', 1),\n",
       " ('presentation', 1),\n",
       " ('dunnhumbians', 1),\n",
       " ('passionate', 1),\n",
       " ('always', 1),\n",
       " ('start', 1),\n",
       " ('decisive', 1),\n",
       " ('listen', 1),\n",
       " ('innovate', 1),\n",
       " ('together', 1),\n",
       " ('grow', 1),\n",
       " ('welcomes', 1),\n",
       " ('participation', 1),\n",
       " ('discussion', 1),\n",
       " ('levels', 1),\n",
       " ('get', 1),\n",
       " ('internationally', 1),\n",
       " ('collaborative', 1),\n",
       " ('alongside', 1),\n",
       " ('inquisitive', 1),\n",
       " ('individuals', 1),\n",
       " ('never', 1),\n",
       " ('stops', 1),\n",
       " ('feed', 1),\n",
       " ('curiosity', 1),\n",
       " ('encouraging', 1),\n",
       " ('everyone', 1),\n",
       " ('opportunity', 1),\n",
       " ('technology', 1),\n",
       " ('delivering', 1),\n",
       " ('extraordinary', 1),\n",
       " ('great', 1),\n",
       " ('believer', 1),\n",
       " ('offering', 1),\n",
       " ('hours', 1),\n",
       " ('plus', 1),\n",
       " ('extra', 1),\n",
       " ('day', 1),\n",
       " ('birthday', 1),\n",
       " ('spirit', 1),\n",
       " ('community', 1),\n",
       " ('backgrounds', 1),\n",
       " ('makes', 1),\n",
       " ('stronger', 1),\n",
       " ('continuously', 1),\n",
       " ('seek', 1),\n",
       " ('inclusion', 1),\n",
       " ('equality', 1),\n",
       " ('know', 1),\n",
       " ('approach', 1),\n",
       " ('difference', 1),\n",
       " ('committed', 1),\n",
       " ('inclusive', 1),\n",
       " ('creating', 1),\n",
       " ('successful', 1),\n",
       " ('interests', 1),\n",
       " ('outside', 1),\n",
       " ('roles', 1),\n",
       " ('lend', 1),\n",
       " ('options', 1),\n",
       " ('important', 1),\n",
       " ('raise', 1),\n",
       " ('recruiter', 1),\n",
       " ('open', 1),\n",
       " ('discussing', 1),\n",
       " ('agile', 1),\n",
       " ('hiring', 1),\n",
       " ('take', 1),\n",
       " ('youtube', 1),\n",
       " ('paths', 1),\n",
       " ('benefits', 1),\n",
       " ('offer', 1),\n",
       " ('careers', 1),\n",
       " ('site', 1),\n",
       " ('primary', 1),\n",
       " ('location', 1),\n",
       " ('type', 1),\n",
       " ('regular', 1),\n",
       " ('posting', 1),\n",
       " ('jul', 1),\n",
       " ('cliente', 1),\n",
       " ('geekhunter', 1),\n",
       " ('ter', 1),\n",
       " ('acesso', 1),\n",
       " ('informações', 1),\n",
       " ('completas', 1),\n",
       " ('sobre', 1),\n",
       " ('contruir', 1),\n",
       " ('manter', 1),\n",
       " ('datalake', 1),\n",
       " ('planejar', 1),\n",
       " ('implementar', 1),\n",
       " ('etls', 1),\n",
       " ('ferramentas', 1),\n",
       " ('participar', 1),\n",
       " ('junto', 1),\n",
       " ('time', 1),\n",
       " ('pesquisa', 1),\n",
       " ('projetos', 1),\n",
       " ('goste', 1),\n",
       " ('banco', 1),\n",
       " ('análise', 1),\n",
       " ('enfim', 1),\n",
       " ('fronha', 1),\n",
       " ('desenho', 1),\n",
       " ('olap', 1),\n",
       " ('personagem', 1),\n",
       " ('frozen', 1),\n",
       " ('entender', 1),\n",
       " ('agro', 1),\n",
       " ('brasil', 1),\n",
       " ('agricultor', 1),\n",
       " ('amigo', 1),\n",
       " ('diferença', 1),\n",
       " ('terra', 1),\n",
       " ('solo', 1),\n",
       " ('falar', 1),\n",
       " ('agrotóxico', 1),\n",
       " ('defensivos', 1),\n",
       " ('agrícolas', 1),\n",
       " ('obrigatórias', 1),\n",
       " ('mining', 1),\n",
       " ('desejáveis', 1),\n",
       " ('bigdata', 1),\n",
       " ('elasticsearch', 1),\n",
       " ('aceita', 1),\n",
       " ('trabalho', 1),\n",
       " ('remoto', 1),\n",
       " ('remain', 1),\n",
       " ('needs', 1),\n",
       " ('continue', 1),\n",
       " ('path', 1),\n",
       " ('core', 1),\n",
       " ('capability', 1),\n",
       " ('organization', 1),\n",
       " ('advanced', 1),\n",
       " ('closely', 1),\n",
       " ('augmented', 1),\n",
       " ('recommendations', 1),\n",
       " ('wherever', 1),\n",
       " ('five', 1),\n",
       " ('major', 1),\n",
       " ('themes', 1),\n",
       " ('systems', 1),\n",
       " ('powering', 1),\n",
       " ('area', 1),\n",
       " ('right', 1),\n",
       " ('applications', 1),\n",
       " ('enable', 1),\n",
       " ('faster', 1),\n",
       " ('leveraging', 1),\n",
       " ('winning', 1),\n",
       " ('disproportionately', 1),\n",
       " ('needle', 1),\n",
       " ('geographies', 1),\n",
       " ('significant', 1),\n",
       " ('predictive', 1),\n",
       " ('machines', 1),\n",
       " ('vast', 1),\n",
       " ('deluge', 1),\n",
       " ('presenting', 1),\n",
       " ('simple', 1),\n",
       " ('true', 1),\n",
       " ('better', 1),\n",
       " ('access', 1),\n",
       " ('every', 1),\n",
       " ('framework', 1),\n",
       " ('connectivity', 1),\n",
       " ('continuous', 1),\n",
       " ('improvement', 1),\n",
       " ('executive', 1),\n",
       " ('version', 1),\n",
       " ('facts', 1),\n",
       " ('continued', 1),\n",
       " ('excellence', 1),\n",
       " ('diagnostics', 1),\n",
       " ('attention', 1),\n",
       " ('matters', 1),\n",
       " ('bets', 1),\n",
       " ('initiatives', 1),\n",
       " ('reporting', 1),\n",
       " ('main', 1),\n",
       " ('purpose', 1),\n",
       " ('specialist', 1),\n",
       " ('member', 1),\n",
       " ('transforming', 1),\n",
       " ('goal', 1),\n",
       " ('discovering', 1),\n",
       " ('supporting', 1),\n",
       " ('decision', 1),\n",
       " ('report', 1),\n",
       " ('director', 1),\n",
       " ('uses', 1),\n",
       " ('democratising', 1),\n",
       " ('meant', 1),\n",
       " ('thought', 1),\n",
       " ('incremental', 1),\n",
       " ('positively', 1),\n",
       " ('accountabilities', 1),\n",
       " ('support', 1),\n",
       " ('wider', 1),\n",
       " ('driven', 1),\n",
       " ('partner', 1),\n",
       " ('expertise', 1),\n",
       " ('local', 1),\n",
       " ('define', 1),\n",
       " ('diagnostic', 1),\n",
       " ('aligning', 1),\n",
       " ('plan', 1),\n",
       " ('includes', 1),\n",
       " ('democratisation', 1),\n",
       " ('whole', 1),\n",
       " ('proactively', 1),\n",
       " ('identifying', 1),\n",
       " ('innovation', 1),\n",
       " ('experimentation', 1),\n",
       " ('use', 1),\n",
       " ('recognized', 1),\n",
       " ('sense', 1),\n",
       " ('helps', 1),\n",
       " ('overall', 1),\n",
       " ('objectives', 1),\n",
       " ('recommend', 1),\n",
       " ('extract', 1),\n",
       " ('attributed', 1),\n",
       " ('critical', 1),\n",
       " ('organizational', 1),\n",
       " ('priority', 1),\n",
       " ('areas', 1),\n",
       " ('policy', 1),\n",
       " ('shopper', 1),\n",
       " ('share', 1),\n",
       " ('extends', 1),\n",
       " ('consult', 1),\n",
       " ('components', 1),\n",
       " ('country', 1),\n",
       " ('cluster', 1),\n",
       " ('wide', 1),\n",
       " ('establishing', 1),\n",
       " ('product', 1),\n",
       " ('enabler', 1),\n",
       " ('service', 1),\n",
       " ('maybe', 1),\n",
       " ('eventually', 1),\n",
       " ('facilitate', 1),\n",
       " ('integration', 1),\n",
       " ('performing', 1),\n",
       " ('checks', 1),\n",
       " ('processed', 1),\n",
       " ('find', 1),\n",
       " ('timely', 1),\n",
       " ('masterfully', 1),\n",
       " ('executes', 1),\n",
       " ('collaborates', 1),\n",
       " ('stakeholders', 1),\n",
       " ('cultural', 1),\n",
       " ('shift', 1),\n",
       " ('within', 1),\n",
       " ('mathematics', 1),\n",
       " ('economics', 1),\n",
       " ('finance', 1),\n",
       " ('administration', 1),\n",
       " ('similar', 1),\n",
       " ('technical', 1),\n",
       " ('proficiency', 1),\n",
       " ('willingness', 1),\n",
       " ('essential', 1),\n",
       " ('minimum', 1),\n",
       " ('years', 1),\n",
       " ('demonstrable', 1),\n",
       " ('realization', 1),\n",
       " ('modeling', 1),\n",
       " ('familiarity', 1),\n",
       " ('methods', 1),\n",
       " ('manage', 1),\n",
       " ('multiple', 1),\n",
       " ('requests', 1),\n",
       " ('priorities', 1),\n",
       " ('simultaneously', 1),\n",
       " ('highly', 1),\n",
       " ('vuca', 1),\n",
       " ('communicate', 1),\n",
       " ('analytic', 1),\n",
       " ('manner', 1),\n",
       " ('managers', 1),\n",
       " ('professional', 1),\n",
       " ('lifecycle', 1),\n",
       " ('generation', 1),\n",
       " ('platform', 1),\n",
       " ('general', 1),\n",
       " ('influencing', 1),\n",
       " ('basic', 1),\n",
       " ('appreciation', 1)]"
      ]
     },
     "execution_count": 89,
     "metadata": {},
     "output_type": "execute_result"
    }
   ],
   "source": [
    "desc_itens"
   ]
  },
  {
   "cell_type": "code",
   "execution_count": 84,
   "metadata": {},
   "outputs": [],
   "source": [
    "# Criamos uma série a partir da lista de tuplas gerada\n",
    "desc_itens_serie = pd.Series({k: v for k, v in desc_itens})"
   ]
  },
  {
   "cell_type": "code",
   "execution_count": 85,
   "metadata": {},
   "outputs": [
    {
     "data": {
      "text/plain": [
       "data            89\n",
       "des             72\n",
       "dans            36\n",
       "besoins         36\n",
       "données         36\n",
       "learning        30\n",
       "business        29\n",
       "clients         28\n",
       "complexes       24\n",
       "les             24\n",
       "aux             24\n",
       "modèles         24\n",
       "ecole           24\n",
       "connaissance    24\n",
       "science         23\n",
       "dtype: int64"
      ]
     },
     "execution_count": 85,
     "metadata": {},
     "output_type": "execute_result"
    }
   ],
   "source": [
    "# Visualizamos os dados, com a contagem de palavras mais frequentes nas descrições das vagas\n",
    "desc_itens_serie.head(15)"
   ]
  },
  {
   "cell_type": "code",
   "execution_count": 86,
   "metadata": {},
   "outputs": [],
   "source": [
    "# Criando uma lista de skills para pesquisar como eles aparecem nas descrições das vagas\n",
    "# As palavras estão em minúsculo devido a limpeza nos dados aplicado anteriormente.\n",
    "skills = [\"python\", \"statistics\", \"analytics\", \"business\", \"projects\", \"develop\"]"
   ]
  },
  {
   "cell_type": "code",
   "execution_count": 91,
   "metadata": {},
   "outputs": [],
   "source": [
    "# Filtramos a série com os skills\n",
    "filtro_skills = desc_itens_serie.filter(items = skills)"
   ]
  },
  {
   "cell_type": "code",
   "execution_count": 92,
   "metadata": {},
   "outputs": [
    {
     "data": {
      "text/plain": [
       "python         3\n",
       "statistics     2\n",
       "analytics      8\n",
       "business      29\n",
       "projects       4\n",
       "dtype: int64"
      ]
     },
     "execution_count": 92,
     "metadata": {},
     "output_type": "execute_result"
    }
   ],
   "source": [
    "filtro_skills"
   ]
  },
  {
   "cell_type": "code",
   "execution_count": 88,
   "metadata": {},
   "outputs": [
    {
     "data": {
      "text/plain": [
       "<matplotlib.axes._subplots.AxesSubplot at 0x22cbfa0c828>"
      ]
     },
     "execution_count": 88,
     "metadata": {},
     "output_type": "execute_result"
    },
    {
     "data": {
      "image/png": "[encoded data removed]",
      "text/plain": [
       "<Figure size 1296x432 with 1 Axes>"
      ]
     },
     "metadata": {
      "needs_background": "light"
     },
     "output_type": "display_data"
    }
   ],
   "source": [
    "# Criamos o plot\n",
    "filtro_skills.plot(kind = 'bar', figsize = (18,6), color = \"magenta\", rot = 30)"
   ]
  },
  {
   "cell_type": "markdown",
   "metadata": {},
   "source": [
    "A palavra \"Python\" apareceu com frequência em 3 vagas, superando a palavra \"Estatística\" (2 vagas) e abaixo da palavra \"Analytics\" (8 vagas).\n",
    "\n",
    "A palavra que aparece com maior frequência nas descrições das vagas dentr as quais filtramos é \"Business\". Por que será? Isso ocorre pois vagas para Data Science contam com um fator fundamental que é: Conhecimento de Negócios."
   ]
  }
 ],
 "metadata": {
  "kernelspec": {
   "display_name": "Python 3",
   "language": "python",
   "name": "python3"
  },
  "language_info": {
   "codemirror_mode": {
    "name": "ipython",
    "version": 3
   },
   "file_extension": ".py",
   "mimetype": "text/x-python",
   "name": "python",
   "nbconvert_exporter": "python",
   "pygments_lexer": "ipython3",
   "version": "3.7.3"
  }
 },
 "nbformat": 4,
 "nbformat_minor": 2
}
